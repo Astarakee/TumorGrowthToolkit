{
 "cells": [
  {
   "cell_type": "markdown",
   "id": "10f190a1",
   "metadata": {},
   "source": [
    "# DTI Based Tumor Simulation\n",
    "\n",
    "The input for this solver is a DTI - RGB file and the output is a 3D tumor concentration. \n",
    "\n",
    "It was unnecessary to use the full DTI tensors, as we are simulating on a grid. So, I used the diffusion in each direction (x,y,z) within each voxel. This is equivalent to the colored DTI images.\n",
    " \n",
    "This is how you can generate such an RGB image from DTI:  https://docs.dipy.org/stable/user_guide/getting_started.html, but we also included one here."
   ]
  },
  {
   "cell_type": "code",
   "execution_count": 2,
   "id": "857216be",
   "metadata": {},
   "source": [
    "from TumorGrowthToolkit.FK_DTI import FK_DTI_Solver\n",
    "import numpy as np\n",
    "import matplotlib.pyplot as plt\n",
    "import matplotlib.colors\n",
    "import time\n",
    "import scipy.ndimage\n",
    "import nibabel as nib"
   ],
   "outputs": []
  },
  {
   "cell_type": "markdown",
   "id": "893fcc11",
   "metadata": {},
   "source": [
    "## Load the provided DTI file.\n",
    "\n",
    "We use the \"RGB\" file which is a 4D array.\n",
    "\n",
    "Dimension 1-3 are the spatial dimensions, and dimension 4 contains the fractional anisotropy (FA) weighted diffusion in x,y,z direction."
   ]
  },
  {
   "cell_type": "code",
   "execution_count": 4,
   "id": "e4d9f4c4",
   "metadata": {},
   "source": [
    "# Apply a Gaussian filter for smooth transitions\n",
    "tissue = nib.load('dataset/HARDI193_RGB.nii.gz').get_fdata()\n",
    "print('shape: (x, y, z, fa-diffusion) :', tissue.shape)\n",
    "plt.imshow(tissue[:,:,40])\n",
    "plt.title('Original tissue')\n",
    "plt.show()"
   ],
   "outputs": []
  },
  {
   "cell_type": "markdown",
   "id": "c9fd60ae",
   "metadata": {},
   "source": [
    "## Set the parameters for the simulation"
   ]
  },
  {
   "cell_type": "code",
   "execution_count": 8,
   "id": "f426b969",
   "metadata": {},
   "source": [
    "parameters = {\n",
    "    'Dw': 2.0,          # maximum diffusion coefficient\n",
    "    'rho': 0.20,        # Proliferation rate\n",
    "    'rgb':tissue, # diffusion tissue map as shown above\n",
    "    'diffusionTensorExponent': 3.0, # exponent for the diffusion tensor, 1.0 for linear relationship\n",
    "    'NxT1_pct': 0.5,    # tumor position [%]\n",
    "    'NyT1_pct': 0.5,\n",
    "    'NzT1_pct': 0.626,\n",
    "    'init_scale': 1., #scale of the initial gaussian\n",
    "    'resolution_factor': 0.5, #resultion scaling for calculations\n",
    "    'verbose': True, #printing timesteps \n",
    "    'time_series_solution_Nt': 64 # number of timesteps in the output\n",
    "}"
   ],
   "outputs": []
  },
  {
   "cell_type": "markdown",
   "id": "90c310e8",
   "metadata": {},
   "source": [
    "## Run the solver\n",
    "This might take a few minutes depending on the settings."
   ]
  },
  {
   "cell_type": "code",
   "execution_count": 9,
   "id": "32907d1b",
   "metadata": {},
   "source": [
    "# Run the FK_solver and plot the results\n",
    "start_time = time.time()\n",
    "fK_DTI_Solver = FK_DTI_Solver(parameters)\n",
    "result = fK_DTI_Solver.solve()\n",
    "end_time = time.time()  # Store the end time\n",
    "execution_time = int(end_time - start_time)  # Calculate the difference\n",
    "\n",
    "print(f\"Execution Time: {execution_time} seconds\")\n",
    "if result['success']:\n",
    "    print(\"Simulation successful!\")\n",
    "else:\n",
    "    print(\"Error occurred:\", result['error'])"
   ],
   "outputs": []
  },
  {
   "cell_type": "markdown",
   "id": "90639dd8",
   "metadata": {},
   "source": [
    "## Plot the tumor development over time."
   ]
  },
  {
   "cell_type": "code",
   "execution_count": 10,
   "id": "4bcc0368",
   "metadata": {
    "lines_to_next_cell": 0
   },
   "source": [
    "# Create custom color maps\n",
    "cmap1 = matplotlib.colors.LinearSegmentedColormap.from_list('my_cmap', ['black', 'white'], 256)\n",
    "cmap2 = matplotlib.colors.LinearSegmentedColormap.from_list('my_cmap2', ['black', 'green', 'yellow', 'red'], 256)\n",
    "\n",
    "# Calculate the slice index\n",
    "NzT = int(parameters['NzT1_pct'] * tissue.shape[2])\n",
    "\n",
    "def plot_time_series(wm_data, time_series_data, slice_index):\n",
    "    plt.figure(figsize=(24, 12))\n",
    "\n",
    "    # Generate 8 indices evenly spaced across the time series length\n",
    "    time_points = np.linspace(0, time_series_data.shape[0] - 1, 8, dtype=int)\n",
    "\n",
    "    for i, t in enumerate(time_points):\n",
    "        plt.subplot(2, 4, i + 1)  # 2 rows, 4 columns, current subplot index\n",
    "        plt.imshow(wm_data[:, :, slice_index], cmap=cmap1, vmin=0, vmax=1, alpha=1)\n",
    "        plt.imshow(time_series_data[t, :, :, slice_index], cmap=cmap2, vmin=0, vmax=1, alpha=0.65)\n",
    "        plt.title(f\"Time Slice {t + 1}\")\n",
    "\n",
    "    plt.tight_layout()\n",
    "    plt.show()\n",
    "\n",
    "plot_time_series(np.mean(tissue, axis=3),result['time_series'], NzT)\n"
   ],
   "outputs": []
  },
  {
   "cell_type": "code",
   "execution_count": null,
   "id": "09e61e72",
   "metadata": {},
   "source": [],
   "outputs": []
  },
  {
   "cell_type": "code",
   "execution_count": null,
   "id": "572459b9",
   "metadata": {},
   "source": [],
   "outputs": []
  }
 ],
 "metadata": {
  "jupytext": {
   "cell_metadata_filter": "-all",
   "main_language": "python",
   "notebook_metadata_filter": "-all"
  },
  "kernelspec": {
   "display_name": "tf_metal",
   "language": "python",
   "name": "python3"
  },
  "language_info": {
   "codemirror_mode": {
    "name": "ipython",
    "version": 3
   },
   "file_extension": ".py",
   "mimetype": "text/x-python",
   "name": "python",
   "nbconvert_exporter": "python",
   "pygments_lexer": "ipython3",
   "version": "3.12.0"
  }
 },
 "nbformat": 4,
 "nbformat_minor": 5
}
